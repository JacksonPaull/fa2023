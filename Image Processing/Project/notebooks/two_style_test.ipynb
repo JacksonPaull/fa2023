{
 "cells": [
  {
   "cell_type": "code",
   "execution_count": 1,
   "metadata": {},
   "outputs": [
    {
     "name": "stderr",
     "output_type": "stream",
     "text": [
      "d:\\ProgramData\\Anaconda3\\envs\\image_proc\\lib\\site-packages\\torchvision\\io\\image.py:13: UserWarning: Failed to load image Python extension: '[WinError 127] The specified procedure could not be found'If you don't plan on using image functionality from `torchvision.io`, you can ignore this warning. Otherwise, there might be something wrong with your environment. Did you have `libjpeg` or `libpng` installed before building `torchvision` from source?\n",
      "  warn(\n"
     ]
    }
   ],
   "source": [
    "%load_ext autoreload\n",
    "%autoreload 2\n",
    "\n",
    "import sys\n",
    "\n",
    "sys.path.append('../')\n",
    "\n",
    "import src.models as models\n",
    "import src.transform as transform\n",
    "import src.video as video\n",
    "import os\n",
    "import logging\n",
    "from tqdm import tqdm\n",
    "import numpy as np"
   ]
  },
  {
   "cell_type": "code",
   "execution_count": 15,
   "metadata": {},
   "outputs": [],
   "source": [
    "# Init logging\n",
    "logger = logging.getLogger('styleTransfer')\n",
    "logger.setLevel(logging.INFO)\n",
    "logger.addHandler(logging.FileHandler(\"my_log.log\", mode='w'))"
   ]
  },
  {
   "cell_type": "markdown",
   "metadata": {},
   "source": [
    "# Video Extraction"
   ]
  },
  {
   "cell_type": "code",
   "execution_count": 9,
   "metadata": {},
   "outputs": [
    {
     "name": "stderr",
     "output_type": "stream",
     "text": [
      "100%|██████████| 6000/6000 [02:28<00:00, 40.44it/s]\n"
     ]
    },
    {
     "name": "stdout",
     "output_type": "stream",
     "text": [
      "Successfully read and saved  5999 frames\n"
     ]
    }
   ],
   "source": [
    "# Clean the stuff from the last run\n",
    "video.clean_dir('../res/atla/')\n",
    "n_frames, fps = video.extract_video('../res/atla.mp4', '../res/atla/', n_frames=6000)"
   ]
  },
  {
   "cell_type": "markdown",
   "metadata": {},
   "source": [
    "# Running Style Transfer"
   ]
  },
  {
   "cell_type": "code",
   "execution_count": 3,
   "metadata": {},
   "outputs": [],
   "source": [
    "vgg19 = models.vgg19(weights=models.vgg_19_default_weights).features.eval()\n",
    "mean = models.vgg19_normalization_mean\n",
    "std = models.vgg19_normalization_std"
   ]
  },
  {
   "cell_type": "code",
   "execution_count": 4,
   "metadata": {},
   "outputs": [],
   "source": [
    "# Greatest entry with frame < end_frame is the current step. frame\n",
    "sigmoid = lambda t, f: 1 - 1 / (1 + np.exp(-(10*t/f - 5)))\n",
    "linear = lambda t, f: 1 - t/f\n",
    "\n",
    "\n",
    "res_path = '../res/style'\n",
    "keypoints = [\n",
    "    # start_frame, End Frame, path to style image 1,   path to style image 2,             interpolation function\n",
    "    (0, 500,      'starry_night.jpg',        'mona_lisa.jpg',        sigmoid),\n",
    "    (500, 1000,      'mona_lisa.jpg',           'mosaic1.jpg',          sigmoid),\n",
    "    (1000, 1800,      'mosaic1.jpg',             'picasso.jpg',          sigmoid),\n",
    "    (1800, 2600,      'picasso.jpg',             'the_scream.jpg',       sigmoid),\n",
    "    (2600, 4000,      'the_scream.jpg',          'stained_glass.jpg',    sigmoid),\n",
    "    (4000, 4500,      'stained_glass.jpg',       'mosaic2.jpg', sigmoid),\n",
    "    (4500, 5000,       'mosaic2.jpg', None, linear) # Until the end\n",
    "]"
   ]
  },
  {
   "cell_type": "code",
   "execution_count": 13,
   "metadata": {},
   "outputs": [],
   "source": [
    "video.clean_dir('../res/output')"
   ]
  },
  {
   "cell_type": "code",
   "execution_count": 16,
   "metadata": {},
   "outputs": [
    {
     "name": "stderr",
     "output_type": "stream",
     "text": [
      " 38%|███▊      | 2264/6000 [1:14:50<11:10:24, 10.77s/it]"
     ]
    }
   ],
   "source": [
    "frame = 0\n",
    "for img in tqdm(os.listdir('../res/atla')):\n",
    "\n",
    "    # Only consider the jpg files output by the video decoder\n",
    "    if not img.endswith('.jpg'):\n",
    "        continue\n",
    "\n",
    "    img_num = int(img[5:-4])\n",
    "    # Skip the first 1850\n",
    "    if img_num < 1850:\n",
    "        continue\n",
    "\n",
    "    # Every other frame is identical so dont waste computation time (still advance the frame counter tho)\n",
    "    if img_num % 2 == 0:\n",
    "        frame += 1\n",
    "        continue\n",
    "\n",
    "    # End the video after zuko passes tf out\n",
    "    if img_num > 5159:\n",
    "        break\n",
    "\n",
    "    # Find the relevant keypoint\n",
    "    kp = keypoints[0]\n",
    "    for k in keypoints:\n",
    "        if k[0] > frame:\n",
    "            break\n",
    "        kp = k\n",
    "\n",
    "    start_frame, end_frame, img1, img2, f = kp\n",
    "    t = frame - start_frame\n",
    "    lamb = f(t, end_frame - start_frame)\n",
    "\n",
    "    logger.info(f'Doing Frame {frame} with lamb={lamb} on styles {img1}, {img2}')\n",
    "\n",
    "    assert lamb >= 0 and lamb <= 1\n",
    "\n",
    "    content_img = transform.load_image(os.path.join('../res/atla', img))\n",
    "    style_img_1 = transform.load_image(os.path.join(res_path, img1))\n",
    "    style_img_2 = None\n",
    "    if img2 is not None:\n",
    "        style_img_2 = transform.load_image(os.path.join(res_path, img2))\n",
    "        assert style_img_1.size() == style_img_2.size()\n",
    "    assert content_img.size() == style_img_1.size()\n",
    "\n",
    "    output = transform.run_style_transfer(vgg19, \n",
    "                             mean,\n",
    "                             std,\n",
    "                             content_img,\n",
    "                             style_img_1,\n",
    "                             style_img_2,\n",
    "                             lamb=lamb)\n",
    "    output_img = transform.to_PIL(output)\n",
    "    output_img.save(f'../res/output/frame{frame:04d}.png')\n",
    "    frame +=1"
   ]
  },
  {
   "cell_type": "markdown",
   "metadata": {},
   "source": [
    "# Video Encoding"
   ]
  },
  {
   "cell_type": "code",
   "execution_count": null,
   "metadata": {},
   "outputs": [],
   "source": [
    "video.encode_video('../res/output', '../output.mp4', fps=fps/2)"
   ]
  },
  {
   "cell_type": "code",
   "execution_count": null,
   "metadata": {},
   "outputs": [],
   "source": [
    "# Don't need to store the video in a lossy format 3 times\n",
    "video.clean_dir('../res/atla')\n",
    "video.clean_dir('../res/output')"
   ]
  },
  {
   "cell_type": "code",
   "execution_count": null,
   "metadata": {},
   "outputs": [],
   "source": []
  }
 ],
 "metadata": {
  "kernelspec": {
   "display_name": "img_proc",
   "language": "python",
   "name": "python3"
  },
  "language_info": {
   "codemirror_mode": {
    "name": "ipython",
    "version": 3
   },
   "file_extension": ".py",
   "mimetype": "text/x-python",
   "name": "python",
   "nbconvert_exporter": "python",
   "pygments_lexer": "ipython3",
   "version": "3.10.12"
  }
 },
 "nbformat": 4,
 "nbformat_minor": 2
}
