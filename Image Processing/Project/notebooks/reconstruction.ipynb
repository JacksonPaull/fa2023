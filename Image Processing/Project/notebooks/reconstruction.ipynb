{
 "cells": [
  {
   "cell_type": "code",
   "execution_count": 1,
   "metadata": {},
   "outputs": [],
   "source": [
    "%load_ext autoreload\n",
    "%autoreload 2\n",
    "\n",
    "import sys\n",
    "\n",
    "sys.path.append('../')\n",
    "\n",
    "import src.models as models\n",
    "import src.transform as transform\n",
    "import os"
   ]
  },
  {
   "cell_type": "code",
   "execution_count": 2,
   "metadata": {},
   "outputs": [],
   "source": [
    "vgg19 = models.vgg19(weights=models.vgg_19_default_weights).features.eval()\n",
    "mean = models.vgg19_normalization_mean\n",
    "std = models.vgg19_normalization_std"
   ]
  },
  {
   "cell_type": "code",
   "execution_count": null,
   "metadata": {},
   "outputs": [],
   "source": [
    "STYLE_DIR = '../res/style'\n",
    "SAVE_DIR = '../res/style/reconstruction'\n",
    "\n",
    "for f in os.listdir(STYLE_DIR):\n",
    "    style_img = transform.load_image(os.path.join(STYLE_DIR, f))\n",
    "    reconstruction = transform.reconstruct_style_img(\n",
    "        vgg19, mean, std, style_img)\n",
    "    reconstruction = transform.to_PIL(reconstruction)\n",
    "    reconstruction.save(os.path.join(SAVE_DIR, f))\n",
    "    print(f'Finished reconstructing the style of {f}')\n",
    "    \n",
    "\n",
    "\n"
   ]
  }
 ],
 "metadata": {
  "kernelspec": {
   "display_name": "img_proc",
   "language": "python",
   "name": "python3"
  },
  "language_info": {
   "codemirror_mode": {
    "name": "ipython",
    "version": 3
   },
   "file_extension": ".py",
   "mimetype": "text/x-python",
   "name": "python",
   "nbconvert_exporter": "python",
   "pygments_lexer": "ipython3",
   "version": "3.10.12"
  }
 },
 "nbformat": 4,
 "nbformat_minor": 2
}
