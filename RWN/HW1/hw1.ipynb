{
 "cells": [
  {
   "cell_type": "code",
   "execution_count": 1,
   "metadata": {},
   "outputs": [],
   "source": [
    "import networkx as nx\n",
    "import numpy as np"
   ]
  },
  {
   "cell_type": "markdown",
   "metadata": {},
   "source": [
    "# Problem 1"
   ]
  },
  {
   "cell_type": "code",
   "execution_count": 37,
   "metadata": {},
   "outputs": [],
   "source": [
    "def p1(p, draw=True):\n",
    "    G = nx.Graph()\n",
    "    G.add_nodes_from(np.arange(10) + 1) # Create 10 node isolated network\n",
    "\n",
    "    for n1 in G:\n",
    "        for n2 in G:\n",
    "            if n1 >= n2:\n",
    "                continue\n",
    "            if np.random.random() < p:\n",
    "                G.add_edge(n1, n2)\n",
    "\n",
    "    if draw:\n",
    "        nx.draw(G)\n",
    "\n",
    "    try:\n",
    "        nx.find_cycle(G)\n",
    "        print('Has Cycles?     ', True)\n",
    "    except nx.NetworkXNoCycle:\n",
    "        print('Has Cycles?     ', False)\n",
    "\n",
    "    print('Average Degree: ', np.mean(G.degree))\n",
    "    print('Is Connected?   ', nx.is_connected(G))\n",
    "\n",
    "    return G\n"
   ]
  },
  {
   "cell_type": "code",
   "execution_count": 38,
   "metadata": {},
   "outputs": [
    {
     "name": "stdout",
     "output_type": "stream",
     "text": [
      "Has Cycles?      True\n",
      "Average Degree:  3.65\n",
      "Is Connected?    False\n"
     ]
    },
    {
     "data": {
      "image/png": "[encoded data removed]",
      "text/plain": [
       "<Figure size 432x288 with 1 Axes>"
      ]
     },
     "metadata": {},
     "output_type": "display_data"
    }
   ],
   "source": [
    "g_p1a = p1(1/6)"
   ]
  },
  {
   "cell_type": "code",
   "execution_count": 39,
   "metadata": {},
   "outputs": [
    {
     "name": "stdout",
     "output_type": "stream",
     "text": [
      "Has Cycles?      True\n",
      "Average Degree:  4.25\n",
      "Is Connected?    True\n"
     ]
    },
    {
     "data": {
      "image/png": "[encoded data removed]",
      "text/plain": [
       "<Figure size 432x288 with 1 Axes>"
      ]
     },
     "metadata": {},
     "output_type": "display_data"
    }
   ],
   "source": [
    "g_p1b = p1(2/6)"
   ]
  },
  {
   "cell_type": "code",
   "execution_count": 40,
   "metadata": {},
   "outputs": [],
   "source": [
    "nx.write_gexf(g_p1a, 'p1a.gexf')\n",
    "nx.write_gexf(g_p1b, 'p1b.gexf')"
   ]
  },
  {
   "cell_type": "markdown",
   "metadata": {},
   "source": [
    "Gephi Stuff:\n",
    "\n",
    "Graph 1\n",
    "---\n",
    "Number of unreachable pairs of nodes: 9\n",
    "Unreachable pairs of nodes:\n",
    "(8,1)\n",
    "(8,2)\n",
    "(8,3)\n",
    "(8,4)\n",
    "(8,5)\n",
    "(8,6)\n",
    "(8,7)\n",
    "(8,9)\n",
    "(8,10)\n",
    "\n",
    "Average distance among reachable pairs: 2.3333\n",
    "\n",
    "Network Diameter: 4\n",
    "\n",
    "Clustering Coeff: 0 (no triangles)\n",
    "\n",
    "\n",
    "\n",
    "Graph 2\n",
    "---\n",
    "Number of unreachable pairs of nodes: 0\n",
    "Unreachable pairs of nodes: None\n",
    "\n",
    "Average distance among reachable pairs:\n",
    "2.067\n",
    "\n",
    "Network Diameter: 5\n",
    "\n",
    "Clustering Coeff: 0.15"
   ]
  },
  {
   "cell_type": "markdown",
   "metadata": {},
   "source": [
    "# Problem 2\n",
    "\n",
    "a) Degree Distrubition is in img\n",
    "\n",
    "b) Average path length: 2.486\n",
    "    Diameter: 5\n",
    "    The average path length is roughly half the diameter\n",
    "    ln(n)/ln(k) = ln(16)/ln(2.5) ~= 3.0\n",
    "    Can observe some type of small world behavior but the degree distribution does not support this\n",
    "\n",
    "c) Important nodes by betweeneness and centrality:\n",
    "    Medici 95.0 / 12\n",
    "    Guadagni 46.33 / 8\n",
    "    Albizzi 38.66 / 6\n",
    "    Salivati 26.0 / 4\n",
    "    Ridolfi 20.66 / 6\n",
    "\n",
    "    We can see that while higher degree usually implies higher betweeness centrality, this is not the case for salivati.\n",
    "    Salivati has a lower degree, but a higher betweenness centrality than ridolfi.\n",
    "\n",
    "    Despite Salivati only being connected to medici and pazzi, it is also the only node to be connected to Pazzi. Thus, when calculating the betweenness centrality for all nodes, salviati will lie on every shortest path to pazzi.\n",
    "    This is not the case for ridolfi, which can be avoided for all of the nodes it is connected to, hence it may not exist on the shortest path."
   ]
  },
  {
   "cell_type": "markdown",
   "metadata": {},
   "source": [
    "# Problem 3\n",
    "\n",
    "a) Avg Degree: 6.459\n",
    "    Path Length - 6.04\n",
    "    Diameter - 17\n",
    "    CC: 0.665"
   ]
  }
 ],
 "metadata": {
  "kernelspec": {
   "display_name": "rwn",
   "language": "python",
   "name": "python3"
  },
  "language_info": {
   "codemirror_mode": {
    "name": "ipython",
    "version": 3
   },
   "file_extension": ".py",
   "mimetype": "text/x-python",
   "name": "python",
   "nbconvert_exporter": "python",
   "pygments_lexer": "ipython3",
   "version": "3.10.13"
  },
  "orig_nbformat": 4
 },
 "nbformat": 4,
 "nbformat_minor": 2
}
