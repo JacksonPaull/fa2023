{
 "cells": [
  {
   "cell_type": "code",
   "execution_count": 1,
   "metadata": {},
   "outputs": [],
   "source": [
    "import networkx as nx\n",
    "import numpy as np\n",
    "import matplotlib.pyplot as plt"
   ]
  },
  {
   "cell_type": "markdown",
   "metadata": {},
   "source": [
    "# Problem 1"
   ]
  },
  {
   "cell_type": "code",
   "execution_count": 37,
   "metadata": {},
   "outputs": [],
   "source": [
    "def p1(p, draw=True):\n",
    "    G = nx.Graph()\n",
    "    G.add_nodes_from(np.arange(10) + 1) # Create 10 node isolated network\n",
    "\n",
    "    for n1 in G:\n",
    "        for n2 in G:\n",
    "            if n1 >= n2:\n",
    "                continue\n",
    "            if np.random.random() < p:\n",
    "                G.add_edge(n1, n2)\n",
    "\n",
    "    if draw:\n",
    "        nx.draw(G)\n",
    "\n",
    "    try:\n",
    "        nx.find_cycle(G)\n",
    "        print('Has Cycles?     ', True)\n",
    "    except nx.NetworkXNoCycle:\n",
    "        print('Has Cycles?     ', False)\n",
    "\n",
    "    print('Average Degree: ', np.mean(G.degree))\n",
    "    print('Is Connected?   ', nx.is_connected(G))\n",
    "\n",
    "    return G\n"
   ]
  },
  {
   "cell_type": "code",
   "execution_count": 38,
   "metadata": {},
   "outputs": [
    {
     "name": "stdout",
     "output_type": "stream",
     "text": [
      "Has Cycles?      True\n",
      "Average Degree:  3.65\n",
      "Is Connected?    False\n"
     ]
    },
    {
     "data": {
      "image/png": "[encoded data removed]",
      "text/plain": [
       "<Figure size 432x288 with 1 Axes>"
      ]
     },
     "metadata": {},
     "output_type": "display_data"
    }
   ],
   "source": [
    "g_p1a = p1(1/6)"
   ]
  },
  {
   "cell_type": "code",
   "execution_count": 39,
   "metadata": {},
   "outputs": [
    {
     "name": "stdout",
     "output_type": "stream",
     "text": [
      "Has Cycles?      True\n",
      "Average Degree:  4.25\n",
      "Is Connected?    True\n"
     ]
    },
    {
     "data": {
      "image/png": "[encoded data removed]",
      "text/plain": [
       "<Figure size 432x288 with 1 Axes>"
      ]
     },
     "metadata": {},
     "output_type": "display_data"
    }
   ],
   "source": [
    "g_p1b = p1(2/6)"
   ]
  },
  {
   "cell_type": "code",
   "execution_count": 40,
   "metadata": {},
   "outputs": [],
   "source": [
    "nx.write_gexf(g_p1a, 'p1a.gexf')\n",
    "nx.write_gexf(g_p1b, 'p1b.gexf')"
   ]
  },
  {
   "cell_type": "markdown",
   "metadata": {},
   "source": [
    "Gephi Stuff:\n",
    "\n",
    "Graph 1\n",
    "---\n",
    "Number of unreachable pairs of nodes: 9\n",
    "Unreachable pairs of nodes:\n",
    "(8,1)\n",
    "(8,2)\n",
    "(8,3)\n",
    "(8,4)\n",
    "(8,5)\n",
    "(8,6)\n",
    "(8,7)\n",
    "(8,9)\n",
    "(8,10)\n",
    "\n",
    "Average distance among reachable pairs: 2.3333\n",
    "\n",
    "Network Diameter: 4\n",
    "\n",
    "Clustering Coeff: 0 (no triangles)\n",
    "\n",
    "\n",
    "\n",
    "Graph 2\n",
    "---\n",
    "Number of unreachable pairs of nodes: 0\n",
    "Unreachable pairs of nodes: None\n",
    "\n",
    "Average distance among reachable pairs:\n",
    "2.067\n",
    "\n",
    "Network Diameter: 5\n",
    "\n",
    "Clustering Coeff: 0.15"
   ]
  },
  {
   "cell_type": "markdown",
   "metadata": {},
   "source": [
    "# Problem 2\n",
    "\n",
    "a) Degree Distrubition is in img\n",
    "\n",
    "b) Average path length: 2.486\n",
    "    Diameter: 5\n",
    "    The average path length is roughly half the diameter\n",
    "    ln(n)/ln(k) = ln(16)/ln(2.5) ~= 3.0\n",
    "    Can observe some type of small world behavior but the degree distribution does not support this\n",
    "\n",
    "c) Important nodes by betweeneness and centrality:\n",
    "    Medici 95.0 / 12\n",
    "    Guadagni 46.33 / 8\n",
    "    Albizzi 38.66 / 6\n",
    "    Salivati 26.0 / 4\n",
    "    Ridolfi 20.66 / 6\n",
    "\n",
    "    We can see that while higher degree usually implies higher betweeness centrality, this is not the case for salivati.\n",
    "    Salivati has a lower degree, but a higher betweenness centrality than ridolfi.\n",
    "\n",
    "    Despite Salivati only being connected to medici and pazzi, it is also the only node to be connected to Pazzi. Thus, when calculating the betweenness centrality for all nodes, salviati will lie on every shortest path to pazzi.\n",
    "    This is not the case for ridolfi, which can be avoided for all of the nodes it is connected to, hence it may not exist on the shortest path."
   ]
  },
  {
   "cell_type": "markdown",
   "metadata": {},
   "source": [
    "# Problem 3\n",
    "\n",
    "a) Avg Degree: 6.459\n",
    "    Path Length - 6.04\n",
    "    Diameter - 17\n",
    "    CC: 0.665"
   ]
  },
  {
   "cell_type": "code",
   "execution_count": 3,
   "metadata": {},
   "outputs": [],
   "source": [
    "G = nx.read_gml('./arx_test.gml')"
   ]
  },
  {
   "cell_type": "code",
   "execution_count": 4,
   "metadata": {},
   "outputs": [],
   "source": [
    "degree = np.asarray(G.degree, dtype='int')[:,1] # Select all the degrees\n",
    "degree = np.sort(degree)"
   ]
  },
  {
   "cell_type": "code",
   "execution_count": 14,
   "metadata": {},
   "outputs": [
    {
     "data": {
      "text/plain": [
       "array([ 1,  2,  3,  4,  5,  6,  7,  8,  9, 10, 11, 12, 13, 14, 15, 16, 17,\n",
       "       18, 19, 20, 21, 22, 23, 24, 25, 26, 27, 28, 29, 30, 31, 32, 33, 34,\n",
       "       35, 36, 37, 38, 40, 41, 42, 43, 44, 45, 46, 47, 48, 49, 51, 53, 54,\n",
       "       55, 56, 57, 59, 60, 62, 63, 65, 66, 68, 77, 79, 81], dtype=int64)"
      ]
     },
     "execution_count": 14,
     "metadata": {},
     "output_type": "execute_result"
    }
   ],
   "source": [
    "d[0]"
   ]
  },
  {
   "cell_type": "code",
   "execution_count": 16,
   "metadata": {},
   "outputs": [
    {
     "data": {
      "text/plain": [
       "Text(0.5, 0, 'Degree')"
      ]
     },
     "execution_count": 16,
     "metadata": {},
     "output_type": "execute_result"
    },
    {
     "data": {
      "image/png": "[encoded data removed]",
      "text/plain": [
       "<Figure size 432x288 with 1 Axes>"
      ]
     },
     "metadata": {
      "needs_background": "light"
     },
     "output_type": "display_data"
    }
   ],
   "source": [
    "d = np.asarray(np.unique(degree, return_counts=True))\n",
    "\n",
    "plt.title('PDF Plot')\n",
    "plt.plot(d[0], d[1] / d[1].sum())\n",
    "plt.ylabel('p')\n",
    "plt.xlabel('Degree')"
   ]
  },
  {
   "cell_type": "code",
   "execution_count": 61,
   "metadata": {},
   "outputs": [
    {
     "data": {
      "text/plain": [
       "Text(0.5, 0, 'Rank (log)')"
      ]
     },
     "execution_count": 61,
     "metadata": {},
     "output_type": "execute_result"
    },
    {
     "data": {
      "image/png": "[encoded data removed]",
      "text/plain": [
       "<Figure size 432x288 with 1 Axes>"
      ]
     },
     "metadata": {
      "needs_background": "light"
     },
     "output_type": "display_data"
    }
   ],
   "source": [
    "# Rank Frequency Plot\n",
    "\n",
    "degree = np.asarray(G.degree, dtype='int')[:,1] # Select all the degrees\n",
    "degree = np.sort(degree)[::-1] # Reverse Sort degrees\n",
    "rank = np.arange(len(degree)) + 1\n",
    "d = np.column_stack([rank, degree])\n",
    "\n",
    "plt.title('Rank Frequency Plot')\n",
    "plt.loglog(d[:,0], d[:,1])\n",
    "plt.ylabel('Degree')\n",
    "plt.xlabel('Rank (log)')"
   ]
  },
  {
   "cell_type": "code",
   "execution_count": 76,
   "metadata": {},
   "outputs": [],
   "source": [
    "random_exp = np.random.exponential(6.459, 5000)"
   ]
  },
  {
   "cell_type": "code",
   "execution_count": 77,
   "metadata": {},
   "outputs": [
    {
     "data": {
      "text/plain": [
       "<matplotlib.legend.Legend at 0x22c42d1cc40>"
      ]
     },
     "execution_count": 77,
     "metadata": {},
     "output_type": "execute_result"
    },
    {
     "data": {
      "image/png": "[encoded data removed]",
      "text/plain": [
       "<Figure size 432x288 with 1 Axes>"
      ]
     },
     "metadata": {
      "needs_background": "light"
     },
     "output_type": "display_data"
    }
   ],
   "source": [
    "random_exp = np.sort(random_exp)[::-1] # Reverse Sort degrees\n",
    "rank = np.arange(len(random_exp)) + 1\n",
    "d_exp = np.column_stack([rank, random_exp])\n",
    "\n",
    "plt.title('Rank Frequency Plot')\n",
    "plt.loglog(d_exp[:,0], d_exp[:,1], label='Exponential Plot')\n",
    "plt.loglog(d[:,0], d[:,1], label='Degree Plot')\n",
    "plt.ylabel('Degree')\n",
    "plt.xlabel('Rank (log)')\n",
    "plt.legend()"
   ]
  },
  {
   "cell_type": "markdown",
   "metadata": {},
   "source": [
    "### Compare these two plots\n",
    "We can see that the exponential numbers\n",
    "\n",
    "### What kind of network is this?\n",
    "\n",
    "This network seems to be best classified as a power law as we can observe a roughly linear relationship between rank and degree in log log scale. However the network seems to have an inflated number of middling degree nodes, whereas a more typical power law network would have a sharper drop off in degree (and therefore a stronger linear relationship)"
   ]
  },
  {
   "cell_type": "code",
   "execution_count": null,
   "metadata": {},
   "outputs": [],
   "source": []
  },
  {
   "cell_type": "markdown",
   "metadata": {},
   "source": [
    "# Problem 4"
   ]
  },
  {
   "cell_type": "code",
   "execution_count": 159,
   "metadata": {},
   "outputs": [],
   "source": [
    "def create_network(p=0, N=100):\n",
    "    G = nx.Graph()\n",
    "    \n",
    "    G.add_nodes_from(np.arange(N)) # Add N Nodes to the graph\n",
    "    edge_list = []\n",
    "    for i in range(len(G.nodes)):\n",
    "        dns = [-2, -1, 1, 2]\n",
    "        for dnc in dns:\n",
    "            if np.random.random() < p:\n",
    "                # Rewire randomly\n",
    "                dnc = np.random.randint(N)\n",
    "\n",
    "            neighbor_node_coords = (i + dnc) % N\n",
    "\n",
    "            # Create normal connection (With either randomly selected neighbor or structural neighbor)\n",
    "            edge_list.append((i, neighbor_node_coords))\n",
    "\n",
    "    G.add_edges_from(edge_list)\n",
    "\n",
    "    return G\n",
    "\n"
   ]
  },
  {
   "cell_type": "code",
   "execution_count": 179,
   "metadata": {},
   "outputs": [],
   "source": [
    "def problem4(show=True):\n",
    "    \n",
    "\n",
    "    # Create list of probas\n",
    "    probas = []\n",
    "    i = 0.0001\n",
    "    while i < 1:\n",
    "        probas.append(i)\n",
    "        i *= 5\n",
    "        probas.append(i)\n",
    "        i *= 2\n",
    "    probas.append(1.0)\n",
    "\n",
    "    G_0 = create_network(0)\n",
    "    C_0 = nx.average_clustering(G_0)\n",
    "    L_0 = nx.average_shortest_path_length(G_0)\n",
    "    fig, ax = plt.subplots()\n",
    "    ax.set_title('Problem 4')\n",
    "    ax.set_xlabel('p')\n",
    "    c = np.array([])\n",
    "    l = np.array([])\n",
    "    for p in probas:\n",
    "\n",
    "        G = create_network(p)\n",
    "        C_p = nx.average_clustering(G)\n",
    "        L_p = nx.average_shortest_path_length(G)\n",
    "        c = np.append(c, [C_p])\n",
    "        l = np.append(l, [L_p])\n",
    "    c /= C_0\n",
    "    l /= L_0\n",
    "    ax.semilogx(probas, c, label='$\\\\frac{C(p)}{C(0)}$', color='orange')\n",
    "    ax.semilogx(probas, l, label='$\\\\frac{L(p)}{L(0)}$', color='blue')\n",
    "\n",
    "    ax.legend()\n",
    "    if show:\n",
    "        plt.show()\n",
    "    #return fig\n",
    "    return probas, c, l\n",
    "\n",
    "\n"
   ]
  },
  {
   "cell_type": "code",
   "execution_count": 180,
   "metadata": {},
   "outputs": [
    {
     "data": {
      "image/png": "[encoded data removed]",
      "text/plain": [
       "<Figure size 432x288 with 1 Axes>"
      ]
     },
     "metadata": {
      "needs_background": "light"
     },
     "output_type": "display_data"
    }
   ],
   "source": [
    "probas, c, l = problem4()"
   ]
  },
  {
   "cell_type": "markdown",
   "metadata": {},
   "source": [
    "Here we can observe the small world effect in action, where the path length decreases quickly, while clustering coefficient remains high for probabilities around 0.1. In this regime, the path length is low while the clustering coefficient is high, meaning that the graph is relatively easily traversable, while still being as densely connected as possible|"
   ]
  },
  {
   "cell_type": "code",
   "execution_count": null,
   "metadata": {},
   "outputs": [],
   "source": []
  },
  {
   "cell_type": "markdown",
   "metadata": {},
   "source": [
    "# Problem 5"
   ]
  },
  {
   "cell_type": "code",
   "execution_count": null,
   "metadata": {},
   "outputs": [],
   "source": [
    "# Create scale free network\n",
    "def create_sf(N, M):\n",
    "    G = nx.Graph()\n",
    "    for u in range(N):\n",
    "        G.add_node(u)\n",
    "        for _ in range(M):\n",
    "            # Select from the other nodes in the network that are not currently connected to i\n",
    "            sel = [n for n in G if n not in G[u] and n != u]\n",
    "            if len(sel) == 0:\n",
    "                break # Connected to all nodes in the network\n",
    "\n",
    "            p = np.asarray(G.degree)[:,1][sel]\n",
    "            if p.sum() == 0:\n",
    "                # First edge in the network, set the probabilities to 1 to kickstart Pref Attachment\n",
    "                p[0] = 1\n",
    "            else:\n",
    "                p = p/p.sum() # Normalize\n",
    "            \n",
    "            v = np.random.choice(sel, p=p)\n",
    "\n",
    "            G.add_edge(u, v)\n",
    "    return G\n",
    "\n",
    "\n",
    "# Create erdos-reyni network\n",
    "def create_er(N, total_edges, p=0.05):\n",
    "    G = nx.Graph()\n",
    "    G.add_nodes_from(np.arange(N))\n",
    "    while len(G.edges) < total_edges:\n",
    "        # Create a new edge between two randomly selected not connected nodes\n",
    "        u, v = np.random.choice(G.nodes, 2)\n",
    "        if u == v:\n",
    "            continue\n",
    "        if (u, v) not in G.edges and np.random.random() < p:\n",
    "            G.add_edge(u, v)\n",
    "\n",
    "    return G\n"
   ]
  }
 ],
 "metadata": {
  "kernelspec": {
   "display_name": "rwn",
   "language": "python",
   "name": "python3"
  },
  "language_info": {
   "codemirror_mode": {
    "name": "ipython",
    "version": 3
   },
   "file_extension": ".py",
   "mimetype": "text/x-python",
   "name": "python",
   "nbconvert_exporter": "python",
   "pygments_lexer": "ipython3",
   "version": "3.10.13"
  },
  "orig_nbformat": 4
 },
 "nbformat": 4,
 "nbformat_minor": 2
}
