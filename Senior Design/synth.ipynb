{
 "cells": [
  {
   "cell_type": "markdown",
   "metadata": {},
   "source": [
    "<i>The purpose of this notebook is to create some form of synthetic graph involving student organizations to allow the creation of an architecture which can close triangles and provide good information.</i>\n",
    "\n",
    "It is entirely possible if not expected that the biases introduced in this notebook will show up later in our project as inferences. As such this notebook will be tweaked as time goes on to create more complex data to train on as well as erase any bias we think is mis-representative of something which could actually exist."
   ]
  },
  {
   "cell_type": "code",
   "execution_count": 1,
   "metadata": {},
   "outputs": [],
   "source": [
    "import networkx as nx\n",
    "import numpy as np"
   ]
  },
  {
   "cell_type": "code",
   "execution_count": 2,
   "metadata": {},
   "outputs": [],
   "source": [
    "N_students = 300\n",
    "N_orgs = 15\n",
    "\n",
    "student_features = {\n",
    "    'type':{'dtype': str, 'values':['student']},\n",
    "    'year': {\n",
    "        'dtype':int,\n",
    "\n",
    "        # 1, 2, 3, 4, 5\n",
    "        # Freshman, Sophmore, Junior, Senior, Grad Student\n",
    "        'values':np.arange(5) + 1,\n",
    "        'p': np.array([10 - i for i in range(5)])\n",
    "    },\n",
    "    'major': {\n",
    "        'dtype':str,\n",
    "        'values': ['STEM', 'Arts', 'Pre-Med', 'Other'],\n",
    "        'p': np.array([10, 1, 2, 5])\n",
    "    },\n",
    "    'commitment_limit': {\n",
    "        'dtype':int,\n",
    "        'values': [15],\n",
    "    }\n",
    "\n",
    "}\n",
    "    \n",
    "org_features = {\n",
    "    'type':{'dtype': str, 'values':['org']},\n",
    "    'hour_req':{\n",
    "        'dtype':int,\n",
    "        'values':np.arange(12) + 1\n",
    "    },\n",
    "    'topic':{\n",
    "        'dtype':str,\n",
    "        'values': ['STEM', 'Arts', 'Pre-Med', 'Entertainment', 'Other'],\n",
    "        'p': np.array([10, 2, 0, 8, 4])\n",
    "    }\n",
    "\n",
    "}"
   ]
  },
  {
   "cell_type": "code",
   "execution_count": 3,
   "metadata": {},
   "outputs": [],
   "source": [
    "def synthesize_student(__studentname__=[1]):\n",
    "    student = {}\n",
    "    for feature_name, feature_dict in student_features.items():\n",
    "        p = None\n",
    "        if feature_dict.get('p', None) is not None:\n",
    "            p = feature_dict['p'] / feature_dict['p'].sum()\n",
    "        student[feature_name] = feature_dict['dtype'](np.random.choice(feature_dict['values'], p=p))\n",
    "\n",
    "    student['name'] = f'student_{__studentname__[0]}'\n",
    "    student['id'] = __studentname__[0]\n",
    "    __studentname__[0] += 1\n",
    "\n",
    "    return (student['name'], student)\n",
    "\n",
    "def synthesize_students(N):\n",
    "    return [synthesize_student() for _ in range(N)]\n",
    "\n",
    "def synthesize_org(__orgname__=[1]):\n",
    "    org = {}\n",
    "    for feature_name, feature_dict in org_features.items():\n",
    "        p = None\n",
    "        if feature_dict.get('p', None) is not None:\n",
    "            p = feature_dict['p'] / feature_dict['p'].sum()\n",
    "        org[feature_name] = feature_dict['dtype'](np.random.choice(feature_dict['values'], p=p))\n",
    "\n",
    "    org['name'] = f'org_{__orgname__[0]}'\n",
    "    org['id'] = __orgname__[0]\n",
    "    __orgname__[0] += 1\n",
    "\n",
    "    return (org['name'], org)\n",
    "\n",
    "def synthesize_orgs(N):\n",
    "    return [synthesize_org() for _ in range(N)]"
   ]
  },
  {
   "cell_type": "code",
   "execution_count": 4,
   "metadata": {},
   "outputs": [],
   "source": [
    "# Students can connect to orgs in a number of ways\n",
    "    # Preferrential attachment for major matching\n",
    "    # Preferrential attachment for bigger orgs\n",
    "    # Cannot go over their maximum commitment limit\n",
    "\n",
    "\n",
    "# Can create a number of subgraphs\n",
    "    # Orgs with shared students have an edge with properties like number of shared students\n",
    "\n",
    "# Likewise students can be linked by the orgs they share"
   ]
  },
  {
   "cell_type": "code",
   "execution_count": 5,
   "metadata": {},
   "outputs": [],
   "source": [
    "G = nx.Graph()\n",
    "students = synthesize_students(N_students)\n",
    "orgs = synthesize_orgs(N_orgs)\n",
    "G.add_nodes_from(students)\n",
    "G.add_nodes_from(orgs)"
   ]
  },
  {
   "cell_type": "code",
   "execution_count": 7,
   "metadata": {},
   "outputs": [],
   "source": [
    "# attach students to orgs\n",
    "l1, l2, l3 = 0.5, 10, -0.1\n",
    "\n",
    "for student in students:\n",
    "    hours_committed = 0\n",
    "    s = student[1]\n",
    "    sid = student[0]\n",
    "    while hours_committed < s['commitment_limit']:\n",
    "        orgs_can_join = [o for o in orgs if o[0] not in G[sid]]\n",
    "        if len(orgs_can_join) == 0:\n",
    "            break\n",
    "\n",
    "        org_ids = [o[0] for o in orgs_can_join]\n",
    "\n",
    "        # Calculate probability for each org\n",
    "        degree = np.array([G.degree[o] for o in org_ids]) # Bigger orgs\n",
    "        majors = np.array([G.nodes[o]['topic'] == s['major'] for o in org_ids], dtype='int')\n",
    "        hours = np.array([G.nodes[o]['hour_req'] for o in org_ids])\n",
    "\n",
    "        p = degree * l1 + majors * l2 + hours * l3        # Calc p metric\n",
    "        q = p - p.min() + 0.00001                         # Set to positive and prevent NaN\n",
    "        k = q / q.sum()                                   # Normalize\n",
    "        \n",
    "        org = np.random.choice(org_ids, p=k)\n",
    "        G.add_edge(sid, org)\n",
    "\n",
    "        hours_committed += [o[1]['hour_req'] for o in orgs_can_join if o[0] == org][0] # This line sucks - find a better way with numpy\n",
    "\n",
    "        if np.random.random() < 0.1 * hours_committed:\n",
    "            # Student stops signing up for things even if they haven't reached their absolute limit bc some have personal lives\n",
    "            break"
   ]
  },
  {
   "cell_type": "code",
   "execution_count": null,
   "metadata": {},
   "outputs": [],
   "source": [
    "# ideas\n",
    "#\n",
    "#   passion_factor -> [0, inf) := the degree to which a student prefers their own major. multiplicative with major pref\n",
    "#       rationale: low passion factor implies a student who likes to explore orgs outside of their own major. High implies the reverse"
   ]
  },
  {
   "cell_type": "code",
   "execution_count": 8,
   "metadata": {},
   "outputs": [],
   "source": [
    "nx.write_gexf(G, './test_syn.gexf')"
   ]
  },
  {
   "cell_type": "code",
   "execution_count": null,
   "metadata": {},
   "outputs": [],
   "source": [
    "import itertools\n",
    "\n",
    "def intersect(a1, a2):\n",
    "    return [n for n in a1 if n in a2]\n",
    "\n",
    "def create_shared_subgraph(G, type='org'):\n",
    "    # Create a graph with connections between orgs\n",
    "    SG = nx.Graph()\n",
    "    nodes = [n for n in G.nodes if n['type'] == type]\n",
    "    SG.add_nodes_from(nodes)\n",
    "    for n1, n2 in itertools.combinations(nodes):\n",
    "        # add shared students to an edge\n",
    "        n1_neighbors = G[n1]\n",
    "        n2_neighbors = G[n2]\n",
    "\n",
    "        both_neighbors = intersect(n1_neighbors, n2_neighbors)\n",
    "        if len(both_neighbors) > 0:\n",
    "            SG.add_edge(n1, n2, shared_neighbors = both_neighbors)\n",
    "\n",
    "    return SG"
   ]
  }
 ],
 "metadata": {
  "kernelspec": {
   "display_name": "sd",
   "language": "python",
   "name": "python3"
  },
  "language_info": {
   "codemirror_mode": {
    "name": "ipython",
    "version": 3
   },
   "file_extension": ".py",
   "mimetype": "text/x-python",
   "name": "python",
   "nbconvert_exporter": "python",
   "pygments_lexer": "ipython3",
   "version": "3.10.13"
  },
  "orig_nbformat": 4
 },
 "nbformat": 4,
 "nbformat_minor": 2
}
